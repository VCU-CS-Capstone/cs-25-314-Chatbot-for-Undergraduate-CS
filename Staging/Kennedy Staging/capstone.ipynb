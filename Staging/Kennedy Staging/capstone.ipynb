{
 "cells": [
  {
   "cell_type": "code",
   "execution_count": 50,
   "metadata": {},
   "outputs": [],
   "source": [
    "from llama_index.core import Document\n",
    "from llama_index.readers.apify import ApifyActor\n",
    "from llama_index.core import VectorStoreIndex, StorageContext, load_index_from_storage\n",
    "import os\n",
    "import openai\n",
    "openai.api_key = \"\"\n"
   ]
  },
  {
   "cell_type": "code",
   "execution_count": 51,
   "metadata": {},
   "outputs": [],
   "source": [
    "from llama_index.embeddings.huggingface import HuggingFaceEmbedding"
   ]
  },
  {
   "cell_type": "code",
   "execution_count": 52,
   "metadata": {},
   "outputs": [],
   "source": [
    "embedding_model = HuggingFaceEmbedding(model_name=\"BAAI/bge-base-en-v1.5\")"
   ]
  },
  {
   "cell_type": "code",
   "execution_count": 53,
   "metadata": {},
   "outputs": [
    {
     "name": "stdout",
     "output_type": "stream",
     "text": [
      "Answer: The concentrations in computer science are in cybersecurity, data science, and software engineering.\n"
     ]
    }
   ],
   "source": [
    "PERSIST_DIR = \"./storage_index\"\n",
    "\n",
    "if not os.path.exists(PERSIST_DIR):\n",
    "    reader = ApifyActor(\"\")\n",
    "    documents = reader.load_data(\n",
    "        actor_id=\"apify/website-content-crawler\",\n",
    "        run_input={\n",
    "            \"startUrls\": [\n",
    "                {\"url\": \"https://bulletin.vcu.edu/undergraduate/engineering/computer-science/computer-science-bs-concentration-cybersecurity/\"}\n",
    "            ]\n",
    "        },\n",
    "        dataset_mapping_function=lambda item: Document(\n",
    "            text=item.get(\"text\"),\n",
    "            metadata={\n",
    "                \"url\": item.get(\"url\"),\n",
    "            },\n",
    "        ),\n",
    "    )\n",
    "    print(\"Total documents scraped: \", len(documents))\n",
    "\n",
    "    # Create the index from documents\n",
    "    index = VectorStoreIndex.from_documents(documents, embed_model = embedding_model)\n",
    "\n",
    "    # Persist the index for later use\n",
    "    index.storage_context.persist(persist_dir=PERSIST_DIR)\n",
    "else:\n",
    "    # Load the existing index\n",
    "    storage_context = StorageContext.from_defaults(persist_dir=PERSIST_DIR)\n",
    "    index = load_index_from_storage(storage_context, embed_model = embedding_model) \n",
    "\n",
    "query_engine = index.as_query_engine()\n",
    "\n",
    "while True:\n",
    "    question = input(\"Ask a question (or type 'exit' to quit): \")\n",
    "    if question.lower() == \"exit\":\n",
    "        break\n",
    "    \n",
    "    # Query the index\n",
    "    response = query_engine.query(question)\n",
    "    print(\"Answer:\", response.response)\n",
    "   "
   ]
  },
  {
   "cell_type": "code",
   "execution_count": null,
   "metadata": {},
   "outputs": [],
   "source": []
  }
 ],
 "metadata": {
  "kernelspec": {
   "display_name": "base",
   "language": "python",
   "name": "python3"
  },
  "language_info": {
   "codemirror_mode": {
    "name": "ipython",
    "version": 3
   },
   "file_extension": ".py",
   "mimetype": "text/x-python",
   "name": "python",
   "nbconvert_exporter": "python",
   "pygments_lexer": "ipython3",
   "version": "3.12.7"
  }
 },
 "nbformat": 4,
 "nbformat_minor": 2
}
